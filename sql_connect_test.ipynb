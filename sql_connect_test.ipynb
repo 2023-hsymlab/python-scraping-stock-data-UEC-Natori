{
  "cells": [
    {
      "cell_type": "markdown",
      "metadata": {
        "colab_type": "text",
        "id": "view-in-github"
      },
      "source": [
        "<a href=\"https://colab.research.google.com/github/hsym-uec/myWeb_github/blob/main/Simmple_Stock.ipynb\" target=\"_parent\"><img src=\"https://colab.research.google.com/assets/colab-badge.svg\" alt=\"Open In Colab\"/></a>"
      ]
    },
    {
      "cell_type": "code",
      "execution_count": 15,
      "metadata": {
        "id": "iu7dBOESS_HT"
      },
      "outputs": [],
      "source": [
        "# SoftBank Stock data from Stooq.com \n",
        "# reference https://seanmemo.com/234/\n",
        "\n",
        "from pandas_datareader import data\n",
        "start = '2023-04-01'\n",
        "end = '2023-04-19'\n",
        "df = data.DataReader('9984.JP', 'stooq', start, end)\n"
      ]
    },
    {
      "cell_type": "code",
      "execution_count": 22,
      "metadata": {
        "colab": {
          "base_uri": "https://localhost:8080/",
          "height": 269
        },
        "id": "X1ZMmhe8VDaN",
        "outputId": "a1e65cdb-d5aa-4fbc-fc4d-d1b9db6aaafa"
      },
      "outputs": [
        {
          "data": {
            "text/html": [
              "<div>\n",
              "<style scoped>\n",
              "    .dataframe tbody tr th:only-of-type {\n",
              "        vertical-align: middle;\n",
              "    }\n",
              "\n",
              "    .dataframe tbody tr th {\n",
              "        vertical-align: top;\n",
              "    }\n",
              "\n",
              "    .dataframe thead th {\n",
              "        text-align: right;\n",
              "    }\n",
              "</style>\n",
              "<table border=\"1\" class=\"dataframe\">\n",
              "  <thead>\n",
              "    <tr style=\"text-align: right;\">\n",
              "      <th></th>\n",
              "    </tr>\n",
              "    <tr>\n",
              "      <th>Exceeded the daily hits limit</th>\n",
              "    </tr>\n",
              "  </thead>\n",
              "  <tbody>\n",
              "  </tbody>\n",
              "</table>\n",
              "</div>"
            ],
            "text/plain": [
              "Empty DataFrame\n",
              "Columns: []\n",
              "Index: []"
            ]
          },
          "execution_count": 22,
          "metadata": {},
          "output_type": "execute_result"
        }
      ],
      "source": [
        "df"
      ]
    },
    {
      "cell_type": "code",
      "execution_count": 17,
      "metadata": {},
      "outputs": [],
      "source": [
        "import pandas as pd\n",
        "\n",
        "def get_price(code):\n",
        "    df = pd.read_csv(f'https://stooq.com/q/d/l/?s={code}&i=d',index_col=0)\n",
        "    df.index = pd.to_datetime(df.index).tz_localize('Asia/Tokyo')\n",
        "    return df\n",
        "\n",
        "df = get_price('6701.jp')"
      ]
    },
    {
      "cell_type": "code",
      "execution_count": 18,
      "metadata": {},
      "outputs": [
        {
          "name": "stdout",
          "output_type": "stream",
          "text": [
            "1 records inserted.\n"
          ]
        }
      ],
      "source": [
        "### update balance\n",
        "\n",
        "import mysql.connector\n",
        "import datetime\n",
        "\n",
        "def insert_balance(balance):\n",
        "\n",
        "    cnx = None\n",
        "    dt_now = datetime.datetime.now()\n",
        "\n",
        "    try:\n",
        "        cnx = mysql.connector.connect(\n",
        "            user='root',  # ユーザー名\n",
        "            password='',  # パスワード\n",
        "            host='localhost',  # ホスト名(IPアドレス）\n",
        "            database='stock_test'  # データベース名\n",
        "        )\n",
        "\n",
        "        cursor = cnx.cursor()\n",
        "\n",
        "        sql = ('''\n",
        "        INSERT INTO wallent02 \n",
        "            (balance, datetime)\n",
        "        VALUES \n",
        "            (%s, %s)\n",
        "        ''')\n",
        "\n",
        "        data = [\n",
        "            (balance, dt_now)\n",
        "        ]\n",
        "\n",
        "        cursor.executemany(sql, data)\n",
        "        cnx.commit()\n",
        "\n",
        "        print(f\"{cursor.rowcount} records inserted.\")\n",
        "\n",
        "        cursor.close()\n",
        "\n",
        "    except Exception as e:\n",
        "        print(f\"Error Occurred: {e}\")\n",
        "\n",
        "    finally:\n",
        "        if cnx is not None and cnx.is_connected():\n",
        "            cnx.close()\n",
        "\n",
        "\n",
        "insert_balance(-1000)\n"
      ]
    },
    {
      "cell_type": "code",
      "execution_count": 19,
      "metadata": {},
      "outputs": [
        {
          "name": "stdout",
          "output_type": "stream",
          "text": [
            "Requirement already satisfied: mysql-connector-python in /Users/natoririku/anaconda3/envs/pythonenv/lib/python3.10/site-packages (8.0.33)\n",
            "Requirement already satisfied: protobuf<=3.20.3,>=3.11.0 in /Users/natoririku/anaconda3/envs/pythonenv/lib/python3.10/site-packages (from mysql-connector-python) (3.20.3)\n"
          ]
        }
      ],
      "source": [
        "!pip3 install mysql-connector-python"
      ]
    },
    {
      "cell_type": "code",
      "execution_count": 20,
      "metadata": {},
      "outputs": [
        {
          "name": "stdout",
          "output_type": "stream",
          "text": [
            "Last balance gotten.\n"
          ]
        },
        {
          "data": {
            "text/plain": [
              "59400.0"
            ]
          },
          "execution_count": 20,
          "metadata": {},
          "output_type": "execute_result"
        }
      ],
      "source": [
        "### get latest balance\n",
        "\n",
        "import mysql.connector\n",
        "\n",
        "def get_balance():\n",
        "\n",
        "    cnx = None\n",
        "    current_balance = 0\n",
        "\n",
        "    try:\n",
        "        cnx = mysql.connector.connect(\n",
        "            user='root',  # ユーザー名\n",
        "            password='',  # パスワード\n",
        "            host='localhost',  # ホスト名(IPアドレス）\n",
        "            database='stock_test'  # データベース名\n",
        "        )\n",
        "\n",
        "        cursor = cnx.cursor()\n",
        "\n",
        "        sql = ('''\n",
        "        SELECT balance\n",
        "        FROM wallent02\n",
        "        ''')\n",
        "\n",
        "        cursor.execute(sql)\n",
        "        #cnx.commit()\n",
        "\n",
        "        print(f\"Last balance gotten.\")\n",
        "\n",
        "        for row in cursor.fetchall():\n",
        "          current_balance += row[0]\n",
        "\n",
        "        cursor.close()\n",
        "\n",
        "    except Exception as e:\n",
        "        print(f\"Error Occurred: {e}\")\n",
        "\n",
        "    finally:\n",
        "        if cnx is not None and cnx.is_connected():\n",
        "            cnx.close()\n",
        "        return current_balance\n",
        "\n",
        "\n",
        "get_balance()"
      ]
    },
    {
      "cell_type": "code",
      "execution_count": 21,
      "metadata": {},
      "outputs": [
        {
          "name": "stdout",
          "output_type": "stream",
          "text": [
            "Requirement already satisfied: pip in /Users/natoririku/anaconda3/envs/pythonenv/lib/python3.10/site-packages (23.1.2)\n",
            "Requirement already satisfied: pandas-datareader in /Users/natoririku/anaconda3/envs/pythonenv/lib/python3.10/site-packages (0.10.0)\n",
            "Requirement already satisfied: lxml in /Users/natoririku/anaconda3/envs/pythonenv/lib/python3.10/site-packages (from pandas-datareader) (4.9.2)\n",
            "Requirement already satisfied: pandas>=0.23 in /Users/natoririku/anaconda3/envs/pythonenv/lib/python3.10/site-packages (from pandas-datareader) (2.0.1)\n",
            "Requirement already satisfied: requests>=2.19.0 in /Users/natoririku/anaconda3/envs/pythonenv/lib/python3.10/site-packages (from pandas-datareader) (2.30.0)\n",
            "Requirement already satisfied: python-dateutil>=2.8.2 in /Users/natoririku/anaconda3/envs/pythonenv/lib/python3.10/site-packages (from pandas>=0.23->pandas-datareader) (2.8.2)\n",
            "Requirement already satisfied: pytz>=2020.1 in /Users/natoririku/anaconda3/envs/pythonenv/lib/python3.10/site-packages (from pandas>=0.23->pandas-datareader) (2023.3)\n",
            "Requirement already satisfied: tzdata>=2022.1 in /Users/natoririku/anaconda3/envs/pythonenv/lib/python3.10/site-packages (from pandas>=0.23->pandas-datareader) (2023.3)\n",
            "Requirement already satisfied: numpy>=1.21.0 in /Users/natoririku/anaconda3/envs/pythonenv/lib/python3.10/site-packages (from pandas>=0.23->pandas-datareader) (1.24.3)\n",
            "Requirement already satisfied: charset-normalizer<4,>=2 in /Users/natoririku/anaconda3/envs/pythonenv/lib/python3.10/site-packages (from requests>=2.19.0->pandas-datareader) (3.1.0)\n",
            "Requirement already satisfied: idna<4,>=2.5 in /Users/natoririku/anaconda3/envs/pythonenv/lib/python3.10/site-packages (from requests>=2.19.0->pandas-datareader) (3.4)\n",
            "Requirement already satisfied: urllib3<3,>=1.21.1 in /Users/natoririku/anaconda3/envs/pythonenv/lib/python3.10/site-packages (from requests>=2.19.0->pandas-datareader) (2.0.2)\n",
            "Requirement already satisfied: certifi>=2017.4.17 in /Users/natoririku/anaconda3/envs/pythonenv/lib/python3.10/site-packages (from requests>=2.19.0->pandas-datareader) (2023.5.7)\n",
            "Requirement already satisfied: six>=1.5 in /Users/natoririku/anaconda3/envs/pythonenv/lib/python3.10/site-packages (from python-dateutil>=2.8.2->pandas>=0.23->pandas-datareader) (1.16.0)\n"
          ]
        }
      ],
      "source": [
        "!pip install --upgrade pip\n",
        "!pip install pandas-datareader"
      ]
    },
    {
      "cell_type": "code",
      "execution_count": null,
      "metadata": {},
      "outputs": [],
      "source": []
    }
  ],
  "metadata": {
    "colab": {
      "authorship_tag": "ABX9TyPjQvpzdTrQo21gWnU3EF3c",
      "include_colab_link": true,
      "provenance": []
    },
    "kernelspec": {
      "display_name": "Python 3",
      "name": "python3"
    },
    "language_info": {
      "codemirror_mode": {
        "name": "ipython",
        "version": 3
      },
      "file_extension": ".py",
      "mimetype": "text/x-python",
      "name": "python",
      "nbconvert_exporter": "python",
      "pygments_lexer": "ipython3",
      "version": "3.10.11"
    }
  },
  "nbformat": 4,
  "nbformat_minor": 0
}
