{
  "cells": [
    {
      "cell_type": "markdown",
      "metadata": {
        "colab_type": "text",
        "id": "view-in-github"
      },
      "source": [
        "<a href=\"https://colab.research.google.com/github/hsym-uec/myWeb_github/blob/main/Simmple_Stock.ipynb\" target=\"_parent\"><img src=\"https://colab.research.google.com/assets/colab-badge.svg\" alt=\"Open In Colab\"/></a>"
      ]
    },
    {
      "cell_type": "code",
      "execution_count": 1,
      "metadata": {
        "id": "iu7dBOESS_HT"
      },
      "outputs": [],
      "source": [
        "# SoftBank Stock data from Stooq.com \n",
        "# reference https://seanmemo.com/234/\n",
        "\n",
        "from pandas_datareader import data\n",
        "start = '2023-04-01'\n",
        "end = '2023-04-18'\n",
        "df = data.DataReader('9984.JP', 'stooq', start, end)\n"
      ]
    },
    {
      "cell_type": "code",
      "execution_count": 5,
      "metadata": {
        "colab": {
          "base_uri": "https://localhost:8080/",
          "height": 269
        },
        "id": "X1ZMmhe8VDaN",
        "outputId": "a1e65cdb-d5aa-4fbc-fc4d-d1b9db6aaafa"
      },
      "outputs": [
        {
          "data": {
            "text/html": [
              "<div>\n",
              "<style scoped>\n",
              "    .dataframe tbody tr th:only-of-type {\n",
              "        vertical-align: middle;\n",
              "    }\n",
              "\n",
              "    .dataframe tbody tr th {\n",
              "        vertical-align: top;\n",
              "    }\n",
              "\n",
              "    .dataframe thead th {\n",
              "        text-align: right;\n",
              "    }\n",
              "</style>\n",
              "<table border=\"1\" class=\"dataframe\">\n",
              "  <thead>\n",
              "    <tr style=\"text-align: right;\">\n",
              "      <th></th>\n",
              "      <th>Open</th>\n",
              "      <th>High</th>\n",
              "      <th>Low</th>\n",
              "      <th>Close</th>\n",
              "      <th>Volume</th>\n",
              "    </tr>\n",
              "    <tr>\n",
              "      <th>Date</th>\n",
              "      <th></th>\n",
              "      <th></th>\n",
              "      <th></th>\n",
              "      <th></th>\n",
              "      <th></th>\n",
              "    </tr>\n",
              "  </thead>\n",
              "  <tbody>\n",
              "    <tr>\n",
              "      <th>1999-04-06 00:00:00+09:00</th>\n",
              "      <td>12594.0</td>\n",
              "      <td>12594.0</td>\n",
              "      <td>12198.8</td>\n",
              "      <td>12400.8</td>\n",
              "      <td>3.514956e+05</td>\n",
              "    </tr>\n",
              "    <tr>\n",
              "      <th>1999-04-07 00:00:00+09:00</th>\n",
              "      <td>12383.2</td>\n",
              "      <td>12541.4</td>\n",
              "      <td>12295.4</td>\n",
              "      <td>12541.4</td>\n",
              "      <td>3.653875e+05</td>\n",
              "    </tr>\n",
              "    <tr>\n",
              "      <th>1999-04-08 00:00:00+09:00</th>\n",
              "      <td>12515.0</td>\n",
              "      <td>12620.4</td>\n",
              "      <td>12409.6</td>\n",
              "      <td>12620.4</td>\n",
              "      <td>5.746686e+05</td>\n",
              "    </tr>\n",
              "    <tr>\n",
              "      <th>1999-04-09 00:00:00+09:00</th>\n",
              "      <td>12971.8</td>\n",
              "      <td>12971.8</td>\n",
              "      <td>12646.8</td>\n",
              "      <td>12778.5</td>\n",
              "      <td>9.096512e+05</td>\n",
              "    </tr>\n",
              "    <tr>\n",
              "      <th>1999-04-12 00:00:00+09:00</th>\n",
              "      <td>12602.8</td>\n",
              "      <td>12725.9</td>\n",
              "      <td>12251.6</td>\n",
              "      <td>12295.4</td>\n",
              "      <td>4.404221e+05</td>\n",
              "    </tr>\n",
              "    <tr>\n",
              "      <th>...</th>\n",
              "      <td>...</td>\n",
              "      <td>...</td>\n",
              "      <td>...</td>\n",
              "      <td>...</td>\n",
              "      <td>...</td>\n",
              "    </tr>\n",
              "    <tr>\n",
              "      <th>2023-04-19 00:00:00+09:00</th>\n",
              "      <td>5140.0</td>\n",
              "      <td>5140.0</td>\n",
              "      <td>5070.0</td>\n",
              "      <td>5130.0</td>\n",
              "      <td>1.151500e+06</td>\n",
              "    </tr>\n",
              "    <tr>\n",
              "      <th>2023-04-20 00:00:00+09:00</th>\n",
              "      <td>5120.0</td>\n",
              "      <td>5150.0</td>\n",
              "      <td>5100.0</td>\n",
              "      <td>5130.0</td>\n",
              "      <td>1.061500e+06</td>\n",
              "    </tr>\n",
              "    <tr>\n",
              "      <th>2023-04-21 00:00:00+09:00</th>\n",
              "      <td>5090.0</td>\n",
              "      <td>5130.0</td>\n",
              "      <td>5070.0</td>\n",
              "      <td>5100.0</td>\n",
              "      <td>9.317000e+05</td>\n",
              "    </tr>\n",
              "    <tr>\n",
              "      <th>2023-04-24 00:00:00+09:00</th>\n",
              "      <td>5120.0</td>\n",
              "      <td>5140.0</td>\n",
              "      <td>5080.0</td>\n",
              "      <td>5100.0</td>\n",
              "      <td>7.540000e+05</td>\n",
              "    </tr>\n",
              "    <tr>\n",
              "      <th>2023-04-25 00:00:00+09:00</th>\n",
              "      <td>5110.0</td>\n",
              "      <td>5140.0</td>\n",
              "      <td>5100.0</td>\n",
              "      <td>5110.0</td>\n",
              "      <td>8.120000e+05</td>\n",
              "    </tr>\n",
              "  </tbody>\n",
              "</table>\n",
              "<p>5894 rows × 5 columns</p>\n",
              "</div>"
            ],
            "text/plain": [
              "                              Open     High      Low    Close        Volume\n",
              "Date                                                                       \n",
              "1999-04-06 00:00:00+09:00  12594.0  12594.0  12198.8  12400.8  3.514956e+05\n",
              "1999-04-07 00:00:00+09:00  12383.2  12541.4  12295.4  12541.4  3.653875e+05\n",
              "1999-04-08 00:00:00+09:00  12515.0  12620.4  12409.6  12620.4  5.746686e+05\n",
              "1999-04-09 00:00:00+09:00  12971.8  12971.8  12646.8  12778.5  9.096512e+05\n",
              "1999-04-12 00:00:00+09:00  12602.8  12725.9  12251.6  12295.4  4.404221e+05\n",
              "...                            ...      ...      ...      ...           ...\n",
              "2023-04-19 00:00:00+09:00   5140.0   5140.0   5070.0   5130.0  1.151500e+06\n",
              "2023-04-20 00:00:00+09:00   5120.0   5150.0   5100.0   5130.0  1.061500e+06\n",
              "2023-04-21 00:00:00+09:00   5090.0   5130.0   5070.0   5100.0  9.317000e+05\n",
              "2023-04-24 00:00:00+09:00   5120.0   5140.0   5080.0   5100.0  7.540000e+05\n",
              "2023-04-25 00:00:00+09:00   5110.0   5140.0   5100.0   5110.0  8.120000e+05\n",
              "\n",
              "[5894 rows x 5 columns]"
            ]
          },
          "execution_count": 5,
          "metadata": {},
          "output_type": "execute_result"
        }
      ],
      "source": [
        "df"
      ]
    },
    {
      "cell_type": "code",
      "execution_count": 4,
      "metadata": {},
      "outputs": [],
      "source": [
        "import pandas as pd\n",
        "\n",
        "def get_price(code):\n",
        "    df = pd.read_csv(f'https://stooq.com/q/d/l/?s={code}&i=d',index_col=0)\n",
        "    df.index = pd.to_datetime(df.index).tz_localize('Asia/Tokyo')\n",
        "    return df\n",
        "\n",
        "df = get_price('6701.jp')"
      ]
    },
    {
      "cell_type": "code",
      "execution_count": 35,
      "metadata": {},
      "outputs": [
        {
          "name": "stdout",
          "output_type": "stream",
          "text": [
            "1 records inserted.\n"
          ]
        }
      ],
      "source": [
        "### update balance\n",
        "\n",
        "import mysql.connector\n",
        "import datetime\n",
        "\n",
        "def insert_balance(balance):\n",
        "\n",
        "    cnx = None\n",
        "    dt_now = datetime.datetime.now()\n",
        "\n",
        "    try:\n",
        "        cnx = mysql.connector.connect(\n",
        "            user='root',  # ユーザー名\n",
        "            password='',  # パスワード\n",
        "            host='localhost',  # ホスト名(IPアドレス）\n",
        "            database='stock_test'  # データベース名\n",
        "        )\n",
        "\n",
        "        cursor = cnx.cursor()\n",
        "\n",
        "        sql = ('''\n",
        "        INSERT INTO wallent02 \n",
        "            (balance, datetime)\n",
        "        VALUES \n",
        "            (%s, %s)\n",
        "        ''')\n",
        "\n",
        "        data = [\n",
        "            (balance, dt_now)\n",
        "        ]\n",
        "\n",
        "        cursor.executemany(sql, data)\n",
        "        cnx.commit()\n",
        "\n",
        "        print(f\"{cursor.rowcount} records inserted.\")\n",
        "\n",
        "        cursor.close()\n",
        "\n",
        "    except Exception as e:\n",
        "        print(f\"Error Occurred: {e}\")\n",
        "\n",
        "    finally:\n",
        "        if cnx is not None and cnx.is_connected():\n",
        "            cnx.close()\n",
        "\n",
        "\n",
        "insert_balance(-1000)\n"
      ]
    },
    {
      "cell_type": "code",
      "execution_count": 14,
      "metadata": {},
      "outputs": [
        {
          "name": "stdout",
          "output_type": "stream",
          "text": [
            "Defaulting to user installation because normal site-packages is not writeable\n",
            "Collecting mysql-connector-python\n",
            "  Downloading mysql_connector_python-8.0.33-cp39-cp39-macosx_12_0_arm64.whl (8.4 MB)\n",
            "\u001b[K     |████████████████████████████████| 8.4 MB 1.3 MB/s eta 0:00:01\n",
            "\u001b[?25hCollecting protobuf<=3.20.3,>=3.11.0\n",
            "  Downloading protobuf-3.20.3-py2.py3-none-any.whl (162 kB)\n",
            "\u001b[K     |████████████████████████████████| 162 kB 1.2 MB/s eta 0:00:01\n",
            "\u001b[?25hInstalling collected packages: protobuf, mysql-connector-python\n",
            "Successfully installed mysql-connector-python-8.0.33 protobuf-3.20.3\n",
            "\u001b[33mWARNING: You are using pip version 21.2.4; however, version 23.1.1 is available.\n",
            "You should consider upgrading via the '/Library/Developer/CommandLineTools/usr/bin/python3 -m pip install --upgrade pip' command.\u001b[0m\n"
          ]
        }
      ],
      "source": [
        "!pip3 install mysql-connector-python"
      ]
    },
    {
      "cell_type": "code",
      "execution_count": 36,
      "metadata": {},
      "outputs": [
        {
          "name": "stdout",
          "output_type": "stream",
          "text": [
            "Last balance gotten.\n"
          ]
        },
        {
          "data": {
            "text/plain": [
              "60400.0"
            ]
          },
          "execution_count": 36,
          "metadata": {},
          "output_type": "execute_result"
        }
      ],
      "source": [
        "### get latest balance\n",
        "\n",
        "import mysql.connector\n",
        "\n",
        "def get_balance():\n",
        "\n",
        "    cnx = None\n",
        "    current_balance = 0\n",
        "\n",
        "    try:\n",
        "        cnx = mysql.connector.connect(\n",
        "            user='root',  # ユーザー名\n",
        "            password='',  # パスワード\n",
        "            host='localhost',  # ホスト名(IPアドレス）\n",
        "            database='stock_test'  # データベース名\n",
        "        )\n",
        "\n",
        "        cursor = cnx.cursor()\n",
        "\n",
        "        sql = ('''\n",
        "        SELECT balance\n",
        "        FROM wallent02\n",
        "        ''')\n",
        "\n",
        "        cursor.execute(sql)\n",
        "        #cnx.commit()\n",
        "\n",
        "        print(f\"Last balance gotten.\")\n",
        "\n",
        "        for row in cursor.fetchall():\n",
        "          current_balance += row[0]\n",
        "\n",
        "        cursor.close()\n",
        "\n",
        "    except Exception as e:\n",
        "        print(f\"Error Occurred: {e}\")\n",
        "\n",
        "    finally:\n",
        "        if cnx is not None and cnx.is_connected():\n",
        "            cnx.close()\n",
        "        return current_balance\n",
        "\n",
        "\n",
        "get_balance()"
      ]
    },
    {
      "cell_type": "code",
      "execution_count": null,
      "metadata": {},
      "outputs": [],
      "source": []
    }
  ],
  "metadata": {
    "colab": {
      "authorship_tag": "ABX9TyPjQvpzdTrQo21gWnU3EF3c",
      "include_colab_link": true,
      "provenance": []
    },
    "kernelspec": {
      "display_name": "Python 3",
      "name": "python3"
    },
    "language_info": {
      "codemirror_mode": {
        "name": "ipython",
        "version": 3
      },
      "file_extension": ".py",
      "mimetype": "text/x-python",
      "name": "python",
      "nbconvert_exporter": "python",
      "pygments_lexer": "ipython3",
      "version": "3.9.6"
    }
  },
  "nbformat": 4,
  "nbformat_minor": 0
}
