{
  "cells": [
    {
      "cell_type": "markdown",
      "metadata": {
        "colab_type": "text",
        "id": "view-in-github"
      },
      "source": [
        "<a href=\"https://colab.research.google.com/github/hsym-uec/myWeb_github/blob/main/Simmple_Stock.ipynb\" target=\"_parent\"><img src=\"https://colab.research.google.com/assets/colab-badge.svg\" alt=\"Open In Colab\"/></a>"
      ]
    },
    {
      "cell_type": "code",
      "execution_count": 13,
      "metadata": {
        "id": "iu7dBOESS_HT"
      },
      "outputs": [
        {
          "ename": "ImportError",
          "evalue": "cannot import name 'get_host' from 'urllib3.util.url' (/Users/natoririku/Documents/GitHub/python-scraping-stock-data-UEC-Natori/jupyter_venv/lib/python3.9/site-packages/urllib3/util/url.py)",
          "output_type": "error",
          "traceback": [
            "\u001b[0;31m---------------------------------------------------------------------------\u001b[0m",
            "\u001b[0;31mImportError\u001b[0m                               Traceback (most recent call last)",
            "Cell \u001b[0;32mIn[13], line 4\u001b[0m\n\u001b[1;32m      1\u001b[0m \u001b[39m# SoftBank Stock data from Stooq.com \u001b[39;00m\n\u001b[1;32m      2\u001b[0m \u001b[39m# reference https://seanmemo.com/234/\u001b[39;00m\n\u001b[0;32m----> 4\u001b[0m \u001b[39mfrom\u001b[39;00m \u001b[39mpandas_datareader\u001b[39;00m \u001b[39mimport\u001b[39;00m data\n\u001b[1;32m      5\u001b[0m start \u001b[39m=\u001b[39m \u001b[39m'\u001b[39m\u001b[39m2023-04-01\u001b[39m\u001b[39m'\u001b[39m\n\u001b[1;32m      6\u001b[0m end \u001b[39m=\u001b[39m \u001b[39m'\u001b[39m\u001b[39m2023-04-19\u001b[39m\u001b[39m'\u001b[39m\n",
            "File \u001b[0;32m~/Documents/GitHub/python-scraping-stock-data-UEC-Natori/jupyter_venv/lib/python3.9/site-packages/pandas_datareader/__init__.py:5\u001b[0m\n\u001b[1;32m      2\u001b[0m \u001b[39mimport\u001b[39;00m \u001b[39msys\u001b[39;00m\n\u001b[1;32m      4\u001b[0m \u001b[39mfrom\u001b[39;00m \u001b[39m.\u001b[39;00m\u001b[39m_version\u001b[39;00m \u001b[39mimport\u001b[39;00m get_versions\n\u001b[0;32m----> 5\u001b[0m \u001b[39mfrom\u001b[39;00m \u001b[39m.\u001b[39;00m\u001b[39mdata\u001b[39;00m \u001b[39mimport\u001b[39;00m (\n\u001b[1;32m      6\u001b[0m     DataReader,\n\u001b[1;32m      7\u001b[0m     Options,\n\u001b[1;32m      8\u001b[0m     get_components_yahoo,\n\u001b[1;32m      9\u001b[0m     get_dailysummary_iex,\n\u001b[1;32m     10\u001b[0m     get_data_alphavantage,\n\u001b[1;32m     11\u001b[0m     get_data_enigma,\n\u001b[1;32m     12\u001b[0m     get_data_famafrench,\n\u001b[1;32m     13\u001b[0m     get_data_fred,\n\u001b[1;32m     14\u001b[0m     get_data_moex,\n\u001b[1;32m     15\u001b[0m     get_data_quandl,\n\u001b[1;32m     16\u001b[0m     get_data_stooq,\n\u001b[1;32m     17\u001b[0m     get_data_tiingo,\n\u001b[1;32m     18\u001b[0m     get_data_yahoo,\n\u001b[1;32m     19\u001b[0m     get_data_yahoo_actions,\n\u001b[1;32m     20\u001b[0m     get_iex_book,\n\u001b[1;32m     21\u001b[0m     get_iex_data_tiingo,\n\u001b[1;32m     22\u001b[0m     get_iex_symbols,\n\u001b[1;32m     23\u001b[0m     get_last_iex,\n\u001b[1;32m     24\u001b[0m     get_markets_iex,\n\u001b[1;32m     25\u001b[0m     get_nasdaq_symbols,\n\u001b[1;32m     26\u001b[0m     get_quote_yahoo,\n\u001b[1;32m     27\u001b[0m     get_recent_iex,\n\u001b[1;32m     28\u001b[0m     get_records_iex,\n\u001b[1;32m     29\u001b[0m     get_summary_iex,\n\u001b[1;32m     30\u001b[0m     get_tops_iex,\n\u001b[1;32m     31\u001b[0m )\n\u001b[1;32m     33\u001b[0m PKG \u001b[39m=\u001b[39m os\u001b[39m.\u001b[39mpath\u001b[39m.\u001b[39mdirname(\u001b[39m__file__\u001b[39m)\n\u001b[1;32m     35\u001b[0m __version__ \u001b[39m=\u001b[39m get_versions()[\u001b[39m\"\u001b[39m\u001b[39mversion\u001b[39m\u001b[39m\"\u001b[39m]\n",
            "File \u001b[0;32m~/Documents/GitHub/python-scraping-stock-data-UEC-Natori/jupyter_venv/lib/python3.9/site-packages/pandas_datareader/data.py:11\u001b[0m\n\u001b[1;32m      7\u001b[0m \u001b[39mimport\u001b[39;00m \u001b[39mwarnings\u001b[39;00m\n\u001b[1;32m      9\u001b[0m \u001b[39mfrom\u001b[39;00m \u001b[39mpandas\u001b[39;00m\u001b[39m.\u001b[39;00m\u001b[39mutil\u001b[39;00m\u001b[39m.\u001b[39;00m\u001b[39m_decorators\u001b[39;00m \u001b[39mimport\u001b[39;00m deprecate_kwarg\n\u001b[0;32m---> 11\u001b[0m \u001b[39mfrom\u001b[39;00m \u001b[39mpandas_datareader\u001b[39;00m\u001b[39m.\u001b[39;00m\u001b[39mav\u001b[39;00m\u001b[39m.\u001b[39;00m\u001b[39mforex\u001b[39;00m \u001b[39mimport\u001b[39;00m AVForexReader\n\u001b[1;32m     12\u001b[0m \u001b[39mfrom\u001b[39;00m \u001b[39mpandas_datareader\u001b[39;00m\u001b[39m.\u001b[39;00m\u001b[39mav\u001b[39;00m\u001b[39m.\u001b[39;00m\u001b[39mquotes\u001b[39;00m \u001b[39mimport\u001b[39;00m AVQuotesReader\n\u001b[1;32m     13\u001b[0m \u001b[39mfrom\u001b[39;00m \u001b[39mpandas_datareader\u001b[39;00m\u001b[39m.\u001b[39;00m\u001b[39mav\u001b[39;00m\u001b[39m.\u001b[39;00m\u001b[39msector\u001b[39;00m \u001b[39mimport\u001b[39;00m AVSectorPerformanceReader\n",
            "File \u001b[0;32m~/Documents/GitHub/python-scraping-stock-data-UEC-Natori/jupyter_venv/lib/python3.9/site-packages/pandas_datareader/av/__init__.py:5\u001b[0m\n\u001b[1;32m      1\u001b[0m \u001b[39mimport\u001b[39;00m \u001b[39mos\u001b[39;00m\n\u001b[1;32m      3\u001b[0m \u001b[39mimport\u001b[39;00m \u001b[39mpandas\u001b[39;00m \u001b[39mas\u001b[39;00m \u001b[39mpd\u001b[39;00m\n\u001b[0;32m----> 5\u001b[0m \u001b[39mfrom\u001b[39;00m \u001b[39mpandas_datareader\u001b[39;00m\u001b[39m.\u001b[39;00m\u001b[39m_utils\u001b[39;00m \u001b[39mimport\u001b[39;00m RemoteDataError\n\u001b[1;32m      6\u001b[0m \u001b[39mfrom\u001b[39;00m \u001b[39mpandas_datareader\u001b[39;00m\u001b[39m.\u001b[39;00m\u001b[39mbase\u001b[39;00m \u001b[39mimport\u001b[39;00m _BaseReader\n\u001b[1;32m      8\u001b[0m AV_BASE_URL \u001b[39m=\u001b[39m \u001b[39m\"\u001b[39m\u001b[39mhttps://www.alphavantage.co/query\u001b[39m\u001b[39m\"\u001b[39m\n",
            "File \u001b[0;32m~/Documents/GitHub/python-scraping-stock-data-UEC-Natori/jupyter_venv/lib/python3.9/site-packages/pandas_datareader/_utils.py:4\u001b[0m\n\u001b[1;32m      1\u001b[0m \u001b[39mimport\u001b[39;00m \u001b[39mdatetime\u001b[39;00m \u001b[39mas\u001b[39;00m \u001b[39mdt\u001b[39;00m\n\u001b[1;32m      3\u001b[0m \u001b[39mfrom\u001b[39;00m \u001b[39mpandas\u001b[39;00m \u001b[39mimport\u001b[39;00m to_datetime\n\u001b[0;32m----> 4\u001b[0m \u001b[39mimport\u001b[39;00m \u001b[39mrequests\u001b[39;00m\n\u001b[1;32m      6\u001b[0m \u001b[39mfrom\u001b[39;00m \u001b[39mpandas_datareader\u001b[39;00m\u001b[39m.\u001b[39;00m\u001b[39mcompat\u001b[39;00m \u001b[39mimport\u001b[39;00m is_number\n\u001b[1;32m      9\u001b[0m \u001b[39mclass\u001b[39;00m \u001b[39mSymbolWarning\u001b[39;00m(\u001b[39mUserWarning\u001b[39;00m):\n",
            "File \u001b[0;32m~/Documents/GitHub/python-scraping-stock-data-UEC-Natori/jupyter_venv/lib/python3.9/site-packages/requests/__init__.py:43\u001b[0m\n\u001b[1;32m      6\u001b[0m \u001b[39m\"\"\"\u001b[39;00m\n\u001b[1;32m      7\u001b[0m \u001b[39mRequests HTTP Library\u001b[39;00m\n\u001b[1;32m      8\u001b[0m \u001b[39m~~~~~~~~~~~~~~~~~~~~~\u001b[39;00m\n\u001b[0;32m   (...)\u001b[0m\n\u001b[1;32m     38\u001b[0m \u001b[39m:license: Apache 2.0, see LICENSE for more details.\u001b[39;00m\n\u001b[1;32m     39\u001b[0m \u001b[39m\"\"\"\u001b[39;00m\n\u001b[1;32m     41\u001b[0m \u001b[39mimport\u001b[39;00m \u001b[39mwarnings\u001b[39;00m\n\u001b[0;32m---> 43\u001b[0m \u001b[39mimport\u001b[39;00m \u001b[39murllib3\u001b[39;00m\n\u001b[1;32m     45\u001b[0m \u001b[39mfrom\u001b[39;00m \u001b[39m.\u001b[39;00m\u001b[39mexceptions\u001b[39;00m \u001b[39mimport\u001b[39;00m RequestsDependencyWarning\n\u001b[1;32m     47\u001b[0m \u001b[39mtry\u001b[39;00m:\n",
            "File \u001b[0;32m~/Documents/GitHub/python-scraping-stock-data-UEC-Natori/jupyter_venv/lib/python3.9/site-packages/urllib3/__init__.py:20\u001b[0m\n\u001b[1;32m     18\u001b[0m \u001b[39mfrom\u001b[39;00m \u001b[39m.\u001b[39;00m\u001b[39mutil\u001b[39;00m\u001b[39m.\u001b[39;00m\u001b[39mretry\u001b[39;00m \u001b[39mimport\u001b[39;00m Retry\n\u001b[1;32m     19\u001b[0m \u001b[39mfrom\u001b[39;00m \u001b[39m.\u001b[39;00m\u001b[39mutil\u001b[39;00m\u001b[39m.\u001b[39;00m\u001b[39mtimeout\u001b[39;00m \u001b[39mimport\u001b[39;00m Timeout\n\u001b[0;32m---> 20\u001b[0m \u001b[39mfrom\u001b[39;00m \u001b[39m.\u001b[39;00m\u001b[39mutil\u001b[39;00m\u001b[39m.\u001b[39;00m\u001b[39murl\u001b[39;00m \u001b[39mimport\u001b[39;00m get_host\n\u001b[1;32m     22\u001b[0m __author__ \u001b[39m=\u001b[39m \u001b[39m\"\u001b[39m\u001b[39mAndrey Petrov (andrey.petrov@shazow.net)\u001b[39m\u001b[39m\"\u001b[39m\n\u001b[1;32m     23\u001b[0m __license__ \u001b[39m=\u001b[39m \u001b[39m\"\u001b[39m\u001b[39mMIT\u001b[39m\u001b[39m\"\u001b[39m\n",
            "\u001b[0;31mImportError\u001b[0m: cannot import name 'get_host' from 'urllib3.util.url' (/Users/natoririku/Documents/GitHub/python-scraping-stock-data-UEC-Natori/jupyter_venv/lib/python3.9/site-packages/urllib3/util/url.py)"
          ]
        }
      ],
      "source": [
        "# SoftBank Stock data from Stooq.com \n",
        "# reference https://seanmemo.com/234/\n",
        "\n",
        "from pandas_datareader import data\n",
        "start = '2023-04-01'\n",
        "end = '2023-04-19'\n",
        "df = data.DataReader('9984.JP', 'stooq', start, end)\n"
      ]
    },
    {
      "cell_type": "code",
      "execution_count": 14,
      "metadata": {},
      "outputs": [
        {
          "ename": "ImportError",
          "evalue": "cannot import name 'get_host' from 'urllib3.util.url' (/Users/natoririku/Documents/GitHub/python-scraping-stock-data-UEC-Natori/jupyter_venv/lib/python3.9/site-packages/urllib3/util/url.py)",
          "output_type": "error",
          "traceback": [
            "\u001b[0;31m---------------------------------------------------------------------------\u001b[0m",
            "\u001b[0;31mImportError\u001b[0m                               Traceback (most recent call last)",
            "Cell \u001b[0;32mIn[14], line 1\u001b[0m\n\u001b[0;32m----> 1\u001b[0m \u001b[39mfrom\u001b[39;00m \u001b[39mpandas_datareader\u001b[39;00m \u001b[39mimport\u001b[39;00m data\n\u001b[1;32m      2\u001b[0m \u001b[39mimport\u001b[39;00m \u001b[39mpandas\u001b[39;00m \u001b[39mas\u001b[39;00m \u001b[39mpd\u001b[39;00m\n\u001b[1;32m      3\u001b[0m \u001b[39mimport\u001b[39;00m \u001b[39mdatetime\u001b[39;00m \u001b[39mas\u001b[39;00m \u001b[39mdt\u001b[39;00m\n",
            "File \u001b[0;32m~/Documents/GitHub/python-scraping-stock-data-UEC-Natori/jupyter_venv/lib/python3.9/site-packages/pandas_datareader/__init__.py:5\u001b[0m\n\u001b[1;32m      2\u001b[0m \u001b[39mimport\u001b[39;00m \u001b[39msys\u001b[39;00m\n\u001b[1;32m      4\u001b[0m \u001b[39mfrom\u001b[39;00m \u001b[39m.\u001b[39;00m\u001b[39m_version\u001b[39;00m \u001b[39mimport\u001b[39;00m get_versions\n\u001b[0;32m----> 5\u001b[0m \u001b[39mfrom\u001b[39;00m \u001b[39m.\u001b[39;00m\u001b[39mdata\u001b[39;00m \u001b[39mimport\u001b[39;00m (\n\u001b[1;32m      6\u001b[0m     DataReader,\n\u001b[1;32m      7\u001b[0m     Options,\n\u001b[1;32m      8\u001b[0m     get_components_yahoo,\n\u001b[1;32m      9\u001b[0m     get_dailysummary_iex,\n\u001b[1;32m     10\u001b[0m     get_data_alphavantage,\n\u001b[1;32m     11\u001b[0m     get_data_enigma,\n\u001b[1;32m     12\u001b[0m     get_data_famafrench,\n\u001b[1;32m     13\u001b[0m     get_data_fred,\n\u001b[1;32m     14\u001b[0m     get_data_moex,\n\u001b[1;32m     15\u001b[0m     get_data_quandl,\n\u001b[1;32m     16\u001b[0m     get_data_stooq,\n\u001b[1;32m     17\u001b[0m     get_data_tiingo,\n\u001b[1;32m     18\u001b[0m     get_data_yahoo,\n\u001b[1;32m     19\u001b[0m     get_data_yahoo_actions,\n\u001b[1;32m     20\u001b[0m     get_iex_book,\n\u001b[1;32m     21\u001b[0m     get_iex_data_tiingo,\n\u001b[1;32m     22\u001b[0m     get_iex_symbols,\n\u001b[1;32m     23\u001b[0m     get_last_iex,\n\u001b[1;32m     24\u001b[0m     get_markets_iex,\n\u001b[1;32m     25\u001b[0m     get_nasdaq_symbols,\n\u001b[1;32m     26\u001b[0m     get_quote_yahoo,\n\u001b[1;32m     27\u001b[0m     get_recent_iex,\n\u001b[1;32m     28\u001b[0m     get_records_iex,\n\u001b[1;32m     29\u001b[0m     get_summary_iex,\n\u001b[1;32m     30\u001b[0m     get_tops_iex,\n\u001b[1;32m     31\u001b[0m )\n\u001b[1;32m     33\u001b[0m PKG \u001b[39m=\u001b[39m os\u001b[39m.\u001b[39mpath\u001b[39m.\u001b[39mdirname(\u001b[39m__file__\u001b[39m)\n\u001b[1;32m     35\u001b[0m __version__ \u001b[39m=\u001b[39m get_versions()[\u001b[39m\"\u001b[39m\u001b[39mversion\u001b[39m\u001b[39m\"\u001b[39m]\n",
            "File \u001b[0;32m~/Documents/GitHub/python-scraping-stock-data-UEC-Natori/jupyter_venv/lib/python3.9/site-packages/pandas_datareader/data.py:11\u001b[0m\n\u001b[1;32m      7\u001b[0m \u001b[39mimport\u001b[39;00m \u001b[39mwarnings\u001b[39;00m\n\u001b[1;32m      9\u001b[0m \u001b[39mfrom\u001b[39;00m \u001b[39mpandas\u001b[39;00m\u001b[39m.\u001b[39;00m\u001b[39mutil\u001b[39;00m\u001b[39m.\u001b[39;00m\u001b[39m_decorators\u001b[39;00m \u001b[39mimport\u001b[39;00m deprecate_kwarg\n\u001b[0;32m---> 11\u001b[0m \u001b[39mfrom\u001b[39;00m \u001b[39mpandas_datareader\u001b[39;00m\u001b[39m.\u001b[39;00m\u001b[39mav\u001b[39;00m\u001b[39m.\u001b[39;00m\u001b[39mforex\u001b[39;00m \u001b[39mimport\u001b[39;00m AVForexReader\n\u001b[1;32m     12\u001b[0m \u001b[39mfrom\u001b[39;00m \u001b[39mpandas_datareader\u001b[39;00m\u001b[39m.\u001b[39;00m\u001b[39mav\u001b[39;00m\u001b[39m.\u001b[39;00m\u001b[39mquotes\u001b[39;00m \u001b[39mimport\u001b[39;00m AVQuotesReader\n\u001b[1;32m     13\u001b[0m \u001b[39mfrom\u001b[39;00m \u001b[39mpandas_datareader\u001b[39;00m\u001b[39m.\u001b[39;00m\u001b[39mav\u001b[39;00m\u001b[39m.\u001b[39;00m\u001b[39msector\u001b[39;00m \u001b[39mimport\u001b[39;00m AVSectorPerformanceReader\n",
            "File \u001b[0;32m~/Documents/GitHub/python-scraping-stock-data-UEC-Natori/jupyter_venv/lib/python3.9/site-packages/pandas_datareader/av/__init__.py:5\u001b[0m\n\u001b[1;32m      1\u001b[0m \u001b[39mimport\u001b[39;00m \u001b[39mos\u001b[39;00m\n\u001b[1;32m      3\u001b[0m \u001b[39mimport\u001b[39;00m \u001b[39mpandas\u001b[39;00m \u001b[39mas\u001b[39;00m \u001b[39mpd\u001b[39;00m\n\u001b[0;32m----> 5\u001b[0m \u001b[39mfrom\u001b[39;00m \u001b[39mpandas_datareader\u001b[39;00m\u001b[39m.\u001b[39;00m\u001b[39m_utils\u001b[39;00m \u001b[39mimport\u001b[39;00m RemoteDataError\n\u001b[1;32m      6\u001b[0m \u001b[39mfrom\u001b[39;00m \u001b[39mpandas_datareader\u001b[39;00m\u001b[39m.\u001b[39;00m\u001b[39mbase\u001b[39;00m \u001b[39mimport\u001b[39;00m _BaseReader\n\u001b[1;32m      8\u001b[0m AV_BASE_URL \u001b[39m=\u001b[39m \u001b[39m\"\u001b[39m\u001b[39mhttps://www.alphavantage.co/query\u001b[39m\u001b[39m\"\u001b[39m\n",
            "File \u001b[0;32m~/Documents/GitHub/python-scraping-stock-data-UEC-Natori/jupyter_venv/lib/python3.9/site-packages/pandas_datareader/_utils.py:4\u001b[0m\n\u001b[1;32m      1\u001b[0m \u001b[39mimport\u001b[39;00m \u001b[39mdatetime\u001b[39;00m \u001b[39mas\u001b[39;00m \u001b[39mdt\u001b[39;00m\n\u001b[1;32m      3\u001b[0m \u001b[39mfrom\u001b[39;00m \u001b[39mpandas\u001b[39;00m \u001b[39mimport\u001b[39;00m to_datetime\n\u001b[0;32m----> 4\u001b[0m \u001b[39mimport\u001b[39;00m \u001b[39mrequests\u001b[39;00m\n\u001b[1;32m      6\u001b[0m \u001b[39mfrom\u001b[39;00m \u001b[39mpandas_datareader\u001b[39;00m\u001b[39m.\u001b[39;00m\u001b[39mcompat\u001b[39;00m \u001b[39mimport\u001b[39;00m is_number\n\u001b[1;32m      9\u001b[0m \u001b[39mclass\u001b[39;00m \u001b[39mSymbolWarning\u001b[39;00m(\u001b[39mUserWarning\u001b[39;00m):\n",
            "File \u001b[0;32m~/Documents/GitHub/python-scraping-stock-data-UEC-Natori/jupyter_venv/lib/python3.9/site-packages/requests/__init__.py:43\u001b[0m\n\u001b[1;32m      6\u001b[0m \u001b[39m\"\"\"\u001b[39;00m\n\u001b[1;32m      7\u001b[0m \u001b[39mRequests HTTP Library\u001b[39;00m\n\u001b[1;32m      8\u001b[0m \u001b[39m~~~~~~~~~~~~~~~~~~~~~\u001b[39;00m\n\u001b[0;32m   (...)\u001b[0m\n\u001b[1;32m     38\u001b[0m \u001b[39m:license: Apache 2.0, see LICENSE for more details.\u001b[39;00m\n\u001b[1;32m     39\u001b[0m \u001b[39m\"\"\"\u001b[39;00m\n\u001b[1;32m     41\u001b[0m \u001b[39mimport\u001b[39;00m \u001b[39mwarnings\u001b[39;00m\n\u001b[0;32m---> 43\u001b[0m \u001b[39mimport\u001b[39;00m \u001b[39murllib3\u001b[39;00m\n\u001b[1;32m     45\u001b[0m \u001b[39mfrom\u001b[39;00m \u001b[39m.\u001b[39;00m\u001b[39mexceptions\u001b[39;00m \u001b[39mimport\u001b[39;00m RequestsDependencyWarning\n\u001b[1;32m     47\u001b[0m \u001b[39mtry\u001b[39;00m:\n",
            "File \u001b[0;32m~/Documents/GitHub/python-scraping-stock-data-UEC-Natori/jupyter_venv/lib/python3.9/site-packages/urllib3/__init__.py:20\u001b[0m\n\u001b[1;32m     18\u001b[0m \u001b[39mfrom\u001b[39;00m \u001b[39m.\u001b[39;00m\u001b[39mutil\u001b[39;00m\u001b[39m.\u001b[39;00m\u001b[39mretry\u001b[39;00m \u001b[39mimport\u001b[39;00m Retry\n\u001b[1;32m     19\u001b[0m \u001b[39mfrom\u001b[39;00m \u001b[39m.\u001b[39;00m\u001b[39mutil\u001b[39;00m\u001b[39m.\u001b[39;00m\u001b[39mtimeout\u001b[39;00m \u001b[39mimport\u001b[39;00m Timeout\n\u001b[0;32m---> 20\u001b[0m \u001b[39mfrom\u001b[39;00m \u001b[39m.\u001b[39;00m\u001b[39mutil\u001b[39;00m\u001b[39m.\u001b[39;00m\u001b[39murl\u001b[39;00m \u001b[39mimport\u001b[39;00m get_host\n\u001b[1;32m     22\u001b[0m __author__ \u001b[39m=\u001b[39m \u001b[39m\"\u001b[39m\u001b[39mAndrey Petrov (andrey.petrov@shazow.net)\u001b[39m\u001b[39m\"\u001b[39m\n\u001b[1;32m     23\u001b[0m __license__ \u001b[39m=\u001b[39m \u001b[39m\"\u001b[39m\u001b[39mMIT\u001b[39m\u001b[39m\"\u001b[39m\n",
            "\u001b[0;31mImportError\u001b[0m: cannot import name 'get_host' from 'urllib3.util.url' (/Users/natoririku/Documents/GitHub/python-scraping-stock-data-UEC-Natori/jupyter_venv/lib/python3.9/site-packages/urllib3/util/url.py)"
          ]
        }
      ],
      "source": [
        "from pandas_datareader import data\n",
        "import pandas as pd\n",
        "import datetime as dt\n",
        "from dateutil import relativedelta\n",
        "\n",
        "\n",
        "#今日の日付を取得します。\n",
        "dateNow = dt.datetime.today()\n",
        "\n",
        "#1年前を取得\n",
        "dateYearBefore = dateNow - relativedelta.relativedelta(years=1)\n",
        "\n",
        "#yahooから1年前から今日までのS&P500データを取得する\n",
        "df = data.DataReader(\"^GSPC\" ,\"yahoo\", start=dateYearBefore, end=dateNow)"
      ]
    },
    {
      "cell_type": "code",
      "execution_count": 8,
      "metadata": {
        "colab": {
          "base_uri": "https://localhost:8080/",
          "height": 269
        },
        "id": "X1ZMmhe8VDaN",
        "outputId": "a1e65cdb-d5aa-4fbc-fc4d-d1b9db6aaafa"
      },
      "outputs": [
        {
          "data": {
            "text/html": [
              "<div>\n",
              "<style scoped>\n",
              "    .dataframe tbody tr th:only-of-type {\n",
              "        vertical-align: middle;\n",
              "    }\n",
              "\n",
              "    .dataframe tbody tr th {\n",
              "        vertical-align: top;\n",
              "    }\n",
              "\n",
              "    .dataframe thead th {\n",
              "        text-align: right;\n",
              "    }\n",
              "</style>\n",
              "<table border=\"1\" class=\"dataframe\">\n",
              "  <thead>\n",
              "    <tr style=\"text-align: right;\">\n",
              "      <th></th>\n",
              "    </tr>\n",
              "    <tr>\n",
              "      <th>Exceeded the daily hits limit</th>\n",
              "    </tr>\n",
              "  </thead>\n",
              "  <tbody>\n",
              "  </tbody>\n",
              "</table>\n",
              "</div>"
            ],
            "text/plain": [
              "Empty DataFrame\n",
              "Columns: []\n",
              "Index: []"
            ]
          },
          "execution_count": 8,
          "metadata": {},
          "output_type": "execute_result"
        }
      ],
      "source": [
        "df"
      ]
    },
    {
      "cell_type": "code",
      "execution_count": 7,
      "metadata": {},
      "outputs": [],
      "source": [
        "import pandas as pd\n",
        "\n",
        "def get_price(code):\n",
        "    df = pd.read_csv(f'https://stooq.com/q/d/l/?s={code}&i=d',index_col=0)\n",
        "    df.index = pd.to_datetime(df.index).tz_localize('Asia/Tokyo')\n",
        "    return df\n",
        "\n",
        "df = get_price('6701.jp')"
      ]
    },
    {
      "cell_type": "code",
      "execution_count": null,
      "metadata": {},
      "outputs": [
        {
          "name": "stdout",
          "output_type": "stream",
          "text": [
            "1 records inserted.\n"
          ]
        }
      ],
      "source": [
        "### update balance\n",
        "\n",
        "import mysql.connector\n",
        "import datetime\n",
        "\n",
        "def insert_balance(balance):\n",
        "\n",
        "    cnx = None\n",
        "    dt_now = datetime.datetime.now()\n",
        "\n",
        "    try:\n",
        "        cnx = mysql.connector.connect(\n",
        "            user='root',  # ユーザー名\n",
        "            password='',  # パスワード\n",
        "            host='localhost',  # ホスト名(IPアドレス）\n",
        "            database='stock_test'  # データベース名\n",
        "        )\n",
        "\n",
        "        cursor = cnx.cursor()\n",
        "\n",
        "        sql = ('''\n",
        "        INSERT INTO wallent02 \n",
        "            (balance, datetime)\n",
        "        VALUES \n",
        "            (%s, %s)\n",
        "        ''')\n",
        "\n",
        "        data = [\n",
        "            (balance, dt_now)\n",
        "        ]\n",
        "\n",
        "        cursor.executemany(sql, data)\n",
        "        cnx.commit()\n",
        "\n",
        "        print(f\"{cursor.rowcount} records inserted.\")\n",
        "\n",
        "        cursor.close()\n",
        "\n",
        "    except Exception as e:\n",
        "        print(f\"Error Occurred: {e}\")\n",
        "\n",
        "    finally:\n",
        "        if cnx is not None and cnx.is_connected():\n",
        "            cnx.close()\n",
        "\n",
        "\n",
        "insert_balance(-1000)\n"
      ]
    },
    {
      "cell_type": "code",
      "execution_count": null,
      "metadata": {},
      "outputs": [
        {
          "name": "stdout",
          "output_type": "stream",
          "text": [
            "Defaulting to user installation because normal site-packages is not writeable\n",
            "Collecting mysql-connector-python\n",
            "  Downloading mysql_connector_python-8.0.33-cp39-cp39-macosx_12_0_arm64.whl (8.4 MB)\n",
            "\u001b[K     |████████████████████████████████| 8.4 MB 1.3 MB/s eta 0:00:01\n",
            "\u001b[?25hCollecting protobuf<=3.20.3,>=3.11.0\n",
            "  Downloading protobuf-3.20.3-py2.py3-none-any.whl (162 kB)\n",
            "\u001b[K     |████████████████████████████████| 162 kB 1.2 MB/s eta 0:00:01\n",
            "\u001b[?25hInstalling collected packages: protobuf, mysql-connector-python\n",
            "Successfully installed mysql-connector-python-8.0.33 protobuf-3.20.3\n",
            "\u001b[33mWARNING: You are using pip version 21.2.4; however, version 23.1.1 is available.\n",
            "You should consider upgrading via the '/Library/Developer/CommandLineTools/usr/bin/python3 -m pip install --upgrade pip' command.\u001b[0m\n"
          ]
        }
      ],
      "source": [
        "!pip3 install mysql-connector-python"
      ]
    },
    {
      "cell_type": "code",
      "execution_count": null,
      "metadata": {},
      "outputs": [
        {
          "name": "stdout",
          "output_type": "stream",
          "text": [
            "Last balance gotten.\n"
          ]
        },
        {
          "data": {
            "text/plain": [
              "60400.0"
            ]
          },
          "execution_count": 13,
          "metadata": {},
          "output_type": "execute_result"
        }
      ],
      "source": [
        "### get latest balance\n",
        "\n",
        "import mysql.connector\n",
        "\n",
        "def get_balance():\n",
        "\n",
        "    cnx = None\n",
        "    current_balance = 0\n",
        "\n",
        "    try:\n",
        "        cnx = mysql.connector.connect(\n",
        "            user='root',  # ユーザー名\n",
        "            password='',  # パスワード\n",
        "            host='localhost',  # ホスト名(IPアドレス）\n",
        "            database='stock_test'  # データベース名\n",
        "        )\n",
        "\n",
        "        cursor = cnx.cursor()\n",
        "\n",
        "        sql = ('''\n",
        "        SELECT balance\n",
        "        FROM wallent02\n",
        "        ''')\n",
        "\n",
        "        cursor.execute(sql)\n",
        "        #cnx.commit()\n",
        "\n",
        "        print(f\"Last balance gotten.\")\n",
        "\n",
        "        for row in cursor.fetchall():\n",
        "          current_balance += row[0]\n",
        "\n",
        "        cursor.close()\n",
        "\n",
        "    except Exception as e:\n",
        "        print(f\"Error Occurred: {e}\")\n",
        "\n",
        "    finally:\n",
        "        if cnx is not None and cnx.is_connected():\n",
        "            cnx.close()\n",
        "        return current_balance\n",
        "\n",
        "\n",
        "get_balance()"
      ]
    },
    {
      "cell_type": "code",
      "execution_count": 12,
      "metadata": {},
      "outputs": [
        {
          "name": "stdout",
          "output_type": "stream",
          "text": [
            "Requirement already satisfied: pip in ./jupyter_venv/lib/python3.9/site-packages (21.2.4)\n",
            "Collecting pip\n",
            "  Downloading pip-23.1.2-py3-none-any.whl (2.1 MB)\n",
            "\u001b[K     |████████████████████████████████| 2.1 MB 6.9 MB/s eta 0:00:01\n",
            "\u001b[?25hInstalling collected packages: pip\n",
            "  Attempting uninstall: pip\n",
            "    Found existing installation: pip 21.2.4\n",
            "    Uninstalling pip-21.2.4:\n",
            "      Successfully uninstalled pip-21.2.4\n",
            "Successfully installed pip-23.1.2\n",
            "Requirement already satisfied: pandas-datareader in ./jupyter_venv/lib/python3.9/site-packages (0.10.0)\n",
            "Requirement already satisfied: lxml in ./jupyter_venv/lib/python3.9/site-packages (from pandas-datareader) (4.9.2)\n",
            "Requirement already satisfied: pandas>=0.23 in ./jupyter_venv/lib/python3.9/site-packages (from pandas-datareader) (2.0.1)\n",
            "Requirement already satisfied: requests>=2.19.0 in ./jupyter_venv/lib/python3.9/site-packages (from pandas-datareader) (2.30.0)\n",
            "Requirement already satisfied: python-dateutil>=2.8.2 in ./jupyter_venv/lib/python3.9/site-packages (from pandas>=0.23->pandas-datareader) (2.8.2)\n",
            "Requirement already satisfied: pytz>=2020.1 in ./jupyter_venv/lib/python3.9/site-packages (from pandas>=0.23->pandas-datareader) (2023.3)\n",
            "Requirement already satisfied: tzdata>=2022.1 in ./jupyter_venv/lib/python3.9/site-packages (from pandas>=0.23->pandas-datareader) (2023.3)\n",
            "Requirement already satisfied: numpy>=1.20.3 in ./jupyter_venv/lib/python3.9/site-packages (from pandas>=0.23->pandas-datareader) (1.24.3)\n",
            "Requirement already satisfied: charset-normalizer<4,>=2 in ./jupyter_venv/lib/python3.9/site-packages (from requests>=2.19.0->pandas-datareader) (3.1.0)\n",
            "Requirement already satisfied: idna<4,>=2.5 in ./jupyter_venv/lib/python3.9/site-packages (from requests>=2.19.0->pandas-datareader) (3.4)\n",
            "Requirement already satisfied: urllib3<3,>=1.21.1 in ./jupyter_venv/lib/python3.9/site-packages (from requests>=2.19.0->pandas-datareader) (1.26.6)\n",
            "Requirement already satisfied: certifi>=2017.4.17 in ./jupyter_venv/lib/python3.9/site-packages (from requests>=2.19.0->pandas-datareader) (2023.5.7)\n",
            "Requirement already satisfied: six>=1.5 in ./jupyter_venv/lib/python3.9/site-packages (from python-dateutil>=2.8.2->pandas>=0.23->pandas-datareader) (1.16.0)\n",
            "Requirement already satisfied: urllib3==1.26.6 in ./jupyter_venv/lib/python3.9/site-packages (1.26.6)\n"
          ]
        }
      ],
      "source": [
        "!pip install --upgrade pip\n",
        "!pip install pandas-datareader\n",
        "!pip install urllib3==1.26.6"
      ]
    },
    {
      "cell_type": "code",
      "execution_count": null,
      "metadata": {},
      "outputs": [],
      "source": []
    }
  ],
  "metadata": {
    "colab": {
      "authorship_tag": "ABX9TyPjQvpzdTrQo21gWnU3EF3c",
      "include_colab_link": true,
      "provenance": []
    },
    "kernelspec": {
      "display_name": "Python 3",
      "name": "python3"
    },
    "language_info": {
      "codemirror_mode": {
        "name": "ipython",
        "version": 3
      },
      "file_extension": ".py",
      "mimetype": "text/x-python",
      "name": "python",
      "nbconvert_exporter": "python",
      "pygments_lexer": "ipython3",
      "version": "3.9.6"
    }
  },
  "nbformat": 4,
  "nbformat_minor": 0
}
