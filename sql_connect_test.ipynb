{
  "cells": [
    {
      "attachments": {},
      "cell_type": "markdown",
      "metadata": {
        "colab_type": "text",
        "id": "view-in-github"
      },
      "source": [
        "<a href=\"https://colab.research.google.com/github/hsym-uec/myWeb_github/blob/main/Simmple_Stock.ipynb\" target=\"_parent\"><img src=\"https://colab.research.google.com/assets/colab-badge.svg\" alt=\"Open In Colab\"/></a>"
      ]
    },
    {
      "cell_type": "code",
      "execution_count": 18,
      "metadata": {
        "id": "iu7dBOESS_HT"
      },
      "outputs": [],
      "source": [
        "# SoftBank Stock data from Stooq.com \n",
        "# reference https://seanmemo.com/234/\n",
        "\n",
        "from pandas_datareader import data\n",
        "start = '2023-05-10'\n",
        "end = '2023-05-17'\n",
        "df = data.DataReader('9984.JP', 'stooq', start, end)\n"
      ]
    },
    {
      "cell_type": "code",
      "execution_count": 19,
      "metadata": {
        "colab": {
          "base_uri": "https://localhost:8080/",
          "height": 269
        },
        "id": "X1ZMmhe8VDaN",
        "outputId": "a1e65cdb-d5aa-4fbc-fc4d-d1b9db6aaafa"
      },
      "outputs": [
        {
          "data": {
            "text/html": [
              "<div>\n",
              "<style scoped>\n",
              "    .dataframe tbody tr th:only-of-type {\n",
              "        vertical-align: middle;\n",
              "    }\n",
              "\n",
              "    .dataframe tbody tr th {\n",
              "        vertical-align: top;\n",
              "    }\n",
              "\n",
              "    .dataframe thead th {\n",
              "        text-align: right;\n",
              "    }\n",
              "</style>\n",
              "<table border=\"1\" class=\"dataframe\">\n",
              "  <thead>\n",
              "    <tr style=\"text-align: right;\">\n",
              "      <th></th>\n",
              "      <th>Open</th>\n",
              "      <th>High</th>\n",
              "      <th>Low</th>\n",
              "      <th>Close</th>\n",
              "      <th>Volume</th>\n",
              "    </tr>\n",
              "    <tr>\n",
              "      <th>Date</th>\n",
              "      <th></th>\n",
              "      <th></th>\n",
              "      <th></th>\n",
              "      <th></th>\n",
              "      <th></th>\n",
              "    </tr>\n",
              "  </thead>\n",
              "  <tbody>\n",
              "    <tr>\n",
              "      <th>2023-05-16</th>\n",
              "      <td>5009</td>\n",
              "      <td>5047</td>\n",
              "      <td>4986</td>\n",
              "      <td>4999</td>\n",
              "      <td>8285300</td>\n",
              "    </tr>\n",
              "    <tr>\n",
              "      <th>2023-05-15</th>\n",
              "      <td>4940</td>\n",
              "      <td>5014</td>\n",
              "      <td>4879</td>\n",
              "      <td>4950</td>\n",
              "      <td>9989400</td>\n",
              "    </tr>\n",
              "    <tr>\n",
              "      <th>2023-05-12</th>\n",
              "      <td>4984</td>\n",
              "      <td>5010</td>\n",
              "      <td>4854</td>\n",
              "      <td>4949</td>\n",
              "      <td>22738400</td>\n",
              "    </tr>\n",
              "    <tr>\n",
              "      <th>2023-05-11</th>\n",
              "      <td>5151</td>\n",
              "      <td>5171</td>\n",
              "      <td>5102</td>\n",
              "      <td>5138</td>\n",
              "      <td>6409200</td>\n",
              "    </tr>\n",
              "    <tr>\n",
              "      <th>2023-05-10</th>\n",
              "      <td>5120</td>\n",
              "      <td>5189</td>\n",
              "      <td>5098</td>\n",
              "      <td>5182</td>\n",
              "      <td>7001600</td>\n",
              "    </tr>\n",
              "  </tbody>\n",
              "</table>\n",
              "</div>"
            ],
            "text/plain": [
              "            Open  High   Low  Close    Volume\n",
              "Date                                         \n",
              "2023-05-16  5009  5047  4986   4999   8285300\n",
              "2023-05-15  4940  5014  4879   4950   9989400\n",
              "2023-05-12  4984  5010  4854   4949  22738400\n",
              "2023-05-11  5151  5171  5102   5138   6409200\n",
              "2023-05-10  5120  5189  5098   5182   7001600"
            ]
          },
          "execution_count": 19,
          "metadata": {},
          "output_type": "execute_result"
        }
      ],
      "source": [
        "df"
      ]
    },
    {
      "cell_type": "code",
      "execution_count": 22,
      "metadata": {},
      "outputs": [
        {
          "data": {
            "text/plain": [
              "4999"
            ]
          },
          "execution_count": 22,
          "metadata": {},
          "output_type": "execute_result"
        }
      ],
      "source": [
        "df.iat[0, 3]"
      ]
    },
    {
      "cell_type": "code",
      "execution_count": 26,
      "metadata": {},
      "outputs": [
        {
          "name": "stdout",
          "output_type": "stream",
          "text": [
            "2023-05-16\n"
          ]
        }
      ],
      "source": [
        "import datetime\n",
        "from datetime import date, timedelta\n",
        "dt_yesterday = datetime.datetime.now() - timedelta(days=1)\n",
        "dt_yesterday = dt_yesterday.strftime('%Y-%m-%d')\n",
        "print(dt_yesterday)"
      ]
    },
    {
      "cell_type": "code",
      "execution_count": 66,
      "metadata": {},
      "outputs": [
        {
          "name": "stdout",
          "output_type": "stream",
          "text": [
            "1 records inserted.\n"
          ]
        }
      ],
      "source": [
        "### update balance\n",
        "\n",
        "import mysql.connector\n",
        "import datetime\n",
        "\n",
        "def insert_balance(balance):\n",
        "\n",
        "    cnx = None\n",
        "    dt_now = datetime.datetime.now()\n",
        "\n",
        "    try:\n",
        "        cnx = mysql.connector.connect(\n",
        "            user='root',  # ユーザー名\n",
        "            password='',  # パスワード\n",
        "            host='localhost',  # ホスト名(IPアドレス）\n",
        "            database='stock_test'  # データベース名\n",
        "        )\n",
        "\n",
        "        cursor = cnx.cursor()\n",
        "\n",
        "        sql = ('''\n",
        "        INSERT INTO wallent02 \n",
        "            (balance, datetime)\n",
        "        VALUES \n",
        "            (%s, %s)\n",
        "        ''')\n",
        "\n",
        "        data = [\n",
        "            (balance, dt_now)\n",
        "        ]\n",
        "\n",
        "        cursor.executemany(sql, data)\n",
        "        cnx.commit()\n",
        "\n",
        "        print(f\"{cursor.rowcount} records inserted.\")\n",
        "\n",
        "        cursor.close()\n",
        "\n",
        "    except Exception as e:\n",
        "        print(f\"Error Occurred: {e}\")\n",
        "\n",
        "    finally:\n",
        "        if cnx is not None and cnx.is_connected():\n",
        "            cnx.close()\n",
        "\n",
        "\n",
        "insert_balance(1000000)\n"
      ]
    },
    {
      "cell_type": "code",
      "execution_count": 74,
      "metadata": {},
      "outputs": [
        {
          "name": "stdout",
          "output_type": "stream",
          "text": [
            "Last balance gotten.\n"
          ]
        },
        {
          "data": {
            "text/plain": [
              "905450"
            ]
          },
          "execution_count": 74,
          "metadata": {},
          "output_type": "execute_result"
        }
      ],
      "source": [
        "### get latest balance\n",
        "\n",
        "import mysql.connector\n",
        "\n",
        "def get_total_balance():\n",
        "\n",
        "    cnx = None\n",
        "    current_balance = 0\n",
        "\n",
        "    try:\n",
        "        cnx = mysql.connector.connect(\n",
        "            user='root',  # ユーザー名\n",
        "            password='',  # パスワード\n",
        "            host='localhost',  # ホスト名(IPアドレス）\n",
        "            database='stock_test'  # データベース名\n",
        "        )\n",
        "\n",
        "        cursor = cnx.cursor()\n",
        "\n",
        "        sql = ('''\n",
        "        SELECT balance\n",
        "        FROM wallent02\n",
        "        ''')\n",
        "\n",
        "        cursor.execute(sql)\n",
        "        #cnx.commit()\n",
        "\n",
        "        print(f\"Last balance gotten.\")\n",
        "\n",
        "        for row in cursor.fetchall():\n",
        "          current_balance += row[0]\n",
        "\n",
        "        cursor.close()\n",
        "\n",
        "    except Exception as e:\n",
        "        print(f\"Error Occurred: {e}\")\n",
        "\n",
        "    finally:\n",
        "        if cnx is not None and cnx.is_connected():\n",
        "            cnx.close()\n",
        "        return int(current_balance)\n",
        "\n",
        "\n",
        "get_total_balance()"
      ]
    },
    {
      "cell_type": "code",
      "execution_count": 72,
      "metadata": {},
      "outputs": [
        {
          "data": {
            "text/plain": [
              "4999"
            ]
          },
          "execution_count": 72,
          "metadata": {},
          "output_type": "execute_result"
        }
      ],
      "source": [
        "# get latest closed value\n",
        "\n",
        "from pandas_datareader import data\n",
        "import datetime\n",
        "from datetime import date, timedelta\n",
        "\n",
        "def get_closed(company_num):\n",
        "    dt_yesterday = datetime.datetime.now() - timedelta(days=1)\n",
        "    dt_yesterday = dt_yesterday.strftime('%Y-%m-%d')\n",
        "\n",
        "    start = dt_yesterday\n",
        "    end = dt_yesterday\n",
        "\n",
        "    company_code = str(company_num) + '.JP'\n",
        "    df = data.DataReader(company_code, 'stooq', start, end)\n",
        "\n",
        "    return df.iat[0, 3]  # 昨日の終値\n",
        "\n",
        "\n",
        "get_closed(9984)\n"
      ]
    },
    {
      "cell_type": "code",
      "execution_count": 75,
      "metadata": {},
      "outputs": [
        {
          "name": "stdout",
          "output_type": "stream",
          "text": [
            "1 records inserted.\n",
            "1 records inserted.\n"
          ]
        }
      ],
      "source": [
        "# purchase the stocks\n",
        "def purchase_stocks(company_num, purchase_num):\n",
        "    stock_closed = get_closed(company_num).item()\n",
        "    purchase_amount = stock_closed * purchase_num  # 購入金額 = 昨日の終値 * 購入数\n",
        "\n",
        "    insert_balance((-1) * purchase_amount)  # 手持ち金額を精算\n",
        "\n",
        "    cnx = None\n",
        "    dt_now = datetime.datetime.now()\n",
        "\n",
        "    try:\n",
        "        cnx = mysql.connector.connect(\n",
        "            user='root',  # ユーザー名\n",
        "            password='',  # パスワード\n",
        "            host='localhost',  # ホスト名(IPアドレス）\n",
        "            database='stock_test'  # データベース名\n",
        "        )\n",
        "\n",
        "        cursor = cnx.cursor()\n",
        "\n",
        "        sql = ('''\n",
        "        INSERT INTO stock_holdings06 \n",
        "            (company_code, amount, purchased_rate, yesterday_rate, updated)\n",
        "        VALUES \n",
        "            (%s, %s, %s, %s, %s)\n",
        "        ''')\n",
        "\n",
        "        data = [\n",
        "            (company_num, purchase_num, stock_closed, stock_closed, dt_now)\n",
        "        ]\n",
        "\n",
        "        cursor.executemany(sql, data)\n",
        "        cnx.commit()\n",
        "\n",
        "        print(f\"{cursor.rowcount} records inserted.\")\n",
        "\n",
        "        cursor.close()\n",
        "\n",
        "    except Exception as e:\n",
        "        print(f\"Error Occurred: {e}\")\n",
        "\n",
        "    finally:\n",
        "        if cnx is not None and cnx.is_connected():\n",
        "            cnx.close()\n",
        "    \n",
        "\n",
        "purchase_stocks(6752, 10)"
      ]
    },
    {
      "cell_type": "code",
      "execution_count": null,
      "metadata": {},
      "outputs": [],
      "source": []
    },
    {
      "attachments": {},
      "cell_type": "markdown",
      "metadata": {},
      "source": [
        "定義\n",
        "stock_holdings\n",
        "\n",
        "+----------------+----------+------+-----+---------+----------------+\n",
        "| Field          | Type     | Null | Key | Default | Extra          |\n",
        "+----------------+----------+------+-----+---------+----------------+\n",
        "| id             | int      | NO   | MUL | NULL    | auto_increment |\n",
        "| company_code   | int      | YES  |     | NULL    |                |\n",
        "| amount         | int      | YES  |     | NULL    |                |\n",
        "| purchased_rate | int      | YES  |     | NULL    |                |\n",
        "| yesterday_rate | int      | YES  |     | NULL    |                |\n",
        "| updated        | datetime | YES  |     | NULL    |                |\n",
        "+----------------+----------+------+-----+---------+----------------+\n",
        "\n",
        "wallent\n",
        "+----------+----------+------+-----+---------+----------------+\n",
        "| Field    | Type     | Null | Key | Default | Extra          |\n",
        "+----------+----------+------+-----+---------+----------------+\n",
        "| id       | int      | NO   | MUL | NULL    | auto_increment |\n",
        "| balance  | float    | YES  |     | NULL    |                |\n",
        "| datetime | datetime | YES  |     | NULL    |                |\n",
        "+----------+----------+------+-----+---------+----------------+\n",
        "\n",
        "\n",
        "\n",
        "例\n",
        "stock_holdings\n",
        "+----+--------------+--------+----------------+----------------+---------------------+\n",
        "| id | company_code | amount | purchased_rate | yesterday_rate | updated             |\n",
        "+----+--------------+--------+----------------+----------------+---------------------+\n",
        "|  1 |         9984 |      5 |           4999 |           4999 | 2023-05-17 10:58:11 |\n",
        "|  2 |         9984 |      5 |           4999 |           4999 | 2023-05-17 10:59:55 |\n",
        "|  3 |         9984 |     10 |           4999 |           4999 | 2023-05-17 11:00:28 |\n",
        "|  4 |         6752 |     10 |           1405 |           1405 | 2023-05-17 11:02:55 |\n",
        "+----+--------------+--------+----------------+----------------+---------------------+\n",
        "\n",
        "wallent\n",
        "+----+---------+---------------------+\n",
        "| id | balance | datetime            |\n",
        "+----+---------+---------------------+\n",
        "|  1 |   10000 | 2001-03-12 12:12:12 |\n",
        "|  2 |   20000 | 2000-04-05 12:12:12 |\n",
        "|  3 |   10000 | 2001-03-12 12:12:12 |\n",
        "|  4 |   20000 | 2000-04-05 00:00:00 |\n",
        "|  5 |     200 | 2023-04-26 11:40:30 |\n",
        "|  6 |    1200 | 2023-04-26 11:59:17 |\n",
        "|  7 |   -1000 | 2023-04-26 12:01:24 |\n",
        "|  8 |   -1000 | 2023-05-10 11:05:09 |\n",
        "|  9 |   -1000 | 2023-05-17 10:19:23 |\n",
        "| 10 |  -24995 | 2023-05-17 10:32:03 |\n",
        "| 11 |  -24995 | 2023-05-17 10:32:37 |\n",
        "| 12 |  -24995 | 2023-05-17 10:33:18 |\n",
        "| 13 |   -1000 | 2023-05-17 10:35:30 |\n",
        "| 14 |   -1000 | 2023-05-17 10:35:42 |\n",
        "| 15 |   -1000 | 2023-05-17 10:35:48 |\n",
        "| 16 |  -24995 | 2023-05-17 10:55:08 |\n",
        "| 17 |  -24995 | 2023-05-17 10:56:15 |\n",
        "| 18 |  -24995 | 2023-05-17 10:56:22 |\n",
        "| 19 |  -24995 | 2023-05-17 10:58:11 |\n",
        "| 20 |  100000 | 2023-05-17 10:59:11 |\n",
        "| 21 | 1000000 | 2023-05-17 10:59:26 |\n",
        "| 22 |  -24995 | 2023-05-17 10:59:55 |\n",
        "| 23 |  -49990 | 2023-05-17 11:00:28 |\n",
        "| 24 |  -14045 | 2023-05-17 11:02:55 |\n",
        "+----+---------+---------------------+"
      ]
    },
    {
      "attachments": {},
      "cell_type": "markdown",
      "metadata": {},
      "source": []
    }
  ],
  "metadata": {
    "colab": {
      "authorship_tag": "ABX9TyPjQvpzdTrQo21gWnU3EF3c",
      "include_colab_link": true,
      "provenance": []
    },
    "kernelspec": {
      "display_name": "Python 3",
      "name": "python3"
    },
    "language_info": {
      "codemirror_mode": {
        "name": "ipython",
        "version": 3
      },
      "file_extension": ".py",
      "mimetype": "text/x-python",
      "name": "python",
      "nbconvert_exporter": "python",
      "pygments_lexer": "ipython3",
      "version": "3.10.11"
    }
  },
  "nbformat": 4,
  "nbformat_minor": 0
}
