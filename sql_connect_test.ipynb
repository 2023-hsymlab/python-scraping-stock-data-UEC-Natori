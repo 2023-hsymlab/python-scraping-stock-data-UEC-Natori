{
  "cells": [
    {
      "cell_type": "markdown",
      "metadata": {
        "colab_type": "text",
        "id": "view-in-github"
      },
      "source": [
        "<a href=\"https://colab.research.google.com/github/hsym-uec/myWeb_github/blob/main/Simmple_Stock.ipynb\" target=\"_parent\"><img src=\"https://colab.research.google.com/assets/colab-badge.svg\" alt=\"Open In Colab\"/></a>"
      ]
    },
    {
      "cell_type": "code",
      "execution_count": 10,
      "metadata": {
        "id": "iu7dBOESS_HT"
      },
      "outputs": [],
      "source": [
        "# SoftBank Stock data from Stooq.com \n",
        "# reference https://seanmemo.com/234/\n",
        "\n",
        "from pandas_datareader import data\n",
        "start = '2023-04-01'\n",
        "end = '2023-04-19'\n",
        "df = data.DataReader('9984.JP', 'stooq', start, end)\n"
      ]
    },
    {
      "cell_type": "code",
      "execution_count": 9,
      "metadata": {
        "colab": {
          "base_uri": "https://localhost:8080/",
          "height": 269
        },
        "id": "X1ZMmhe8VDaN",
        "outputId": "a1e65cdb-d5aa-4fbc-fc4d-d1b9db6aaafa"
      },
      "outputs": [
        {
          "data": {
            "text/html": [
              "<div>\n",
              "<style scoped>\n",
              "    .dataframe tbody tr th:only-of-type {\n",
              "        vertical-align: middle;\n",
              "    }\n",
              "\n",
              "    .dataframe tbody tr th {\n",
              "        vertical-align: top;\n",
              "    }\n",
              "\n",
              "    .dataframe thead th {\n",
              "        text-align: right;\n",
              "    }\n",
              "</style>\n",
              "<table border=\"1\" class=\"dataframe\">\n",
              "  <thead>\n",
              "    <tr style=\"text-align: right;\">\n",
              "      <th></th>\n",
              "    </tr>\n",
              "    <tr>\n",
              "      <th>Exceeded the daily hits limit</th>\n",
              "    </tr>\n",
              "  </thead>\n",
              "  <tbody>\n",
              "  </tbody>\n",
              "</table>\n",
              "</div>"
            ],
            "text/plain": [
              "Empty DataFrame\n",
              "Columns: []\n",
              "Index: []"
            ]
          },
          "execution_count": 9,
          "metadata": {},
          "output_type": "execute_result"
        }
      ],
      "source": [
        "df"
      ]
    },
    {
      "cell_type": "code",
      "execution_count": 7,
      "metadata": {},
      "outputs": [],
      "source": [
        "import pandas as pd\n",
        "\n",
        "def get_price(code):\n",
        "    df = pd.read_csv(f'https://stooq.com/q/d/l/?s={code}&i=d',index_col=0)\n",
        "    df.index = pd.to_datetime(df.index).tz_localize('Asia/Tokyo')\n",
        "    return df\n",
        "\n",
        "df = get_price('6701.jp')"
      ]
    },
    {
      "cell_type": "code",
      "execution_count": null,
      "metadata": {},
      "outputs": [
        {
          "name": "stdout",
          "output_type": "stream",
          "text": [
            "1 records inserted.\n"
          ]
        }
      ],
      "source": [
        "### update balance\n",
        "\n",
        "import mysql.connector\n",
        "import datetime\n",
        "\n",
        "def insert_balance(balance):\n",
        "\n",
        "    cnx = None\n",
        "    dt_now = datetime.datetime.now()\n",
        "\n",
        "    try:\n",
        "        cnx = mysql.connector.connect(\n",
        "            user='root',  # ユーザー名\n",
        "            password='',  # パスワード\n",
        "            host='localhost',  # ホスト名(IPアドレス）\n",
        "            database='stock_test'  # データベース名\n",
        "        )\n",
        "\n",
        "        cursor = cnx.cursor()\n",
        "\n",
        "        sql = ('''\n",
        "        INSERT INTO wallent02 \n",
        "            (balance, datetime)\n",
        "        VALUES \n",
        "            (%s, %s)\n",
        "        ''')\n",
        "\n",
        "        data = [\n",
        "            (balance, dt_now)\n",
        "        ]\n",
        "\n",
        "        cursor.executemany(sql, data)\n",
        "        cnx.commit()\n",
        "\n",
        "        print(f\"{cursor.rowcount} records inserted.\")\n",
        "\n",
        "        cursor.close()\n",
        "\n",
        "    except Exception as e:\n",
        "        print(f\"Error Occurred: {e}\")\n",
        "\n",
        "    finally:\n",
        "        if cnx is not None and cnx.is_connected():\n",
        "            cnx.close()\n",
        "\n",
        "\n",
        "insert_balance(-1000)\n"
      ]
    },
    {
      "cell_type": "code",
      "execution_count": 4,
      "metadata": {},
      "outputs": [
        {
          "name": "stdout",
          "output_type": "stream",
          "text": [
            "Collecting mysql-connector-python\n",
            "  Downloading mysql_connector_python-8.0.33-cp310-cp310-macosx_12_0_arm64.whl (8.4 MB)\n",
            "\u001b[2K     \u001b[90m━━━━━━━━━━━━━━━━━━━━━━━━━━━━━━━━━━━━━━━━\u001b[0m \u001b[32m8.4/8.4 MB\u001b[0m \u001b[31m27.2 MB/s\u001b[0m eta \u001b[36m0:00:00\u001b[0m00:01\u001b[0m00:01\u001b[0m\n",
            "\u001b[?25hCollecting protobuf<=3.20.3,>=3.11.0 (from mysql-connector-python)\n",
            "  Using cached protobuf-3.20.3-py2.py3-none-any.whl (162 kB)\n",
            "Installing collected packages: protobuf, mysql-connector-python\n",
            "Successfully installed mysql-connector-python-8.0.33 protobuf-3.20.3\n"
          ]
        }
      ],
      "source": [
        "!pip3 install mysql-connector-python"
      ]
    },
    {
      "cell_type": "code",
      "execution_count": null,
      "metadata": {},
      "outputs": [
        {
          "name": "stdout",
          "output_type": "stream",
          "text": [
            "Last balance gotten.\n"
          ]
        },
        {
          "data": {
            "text/plain": [
              "60400.0"
            ]
          },
          "execution_count": 13,
          "metadata": {},
          "output_type": "execute_result"
        }
      ],
      "source": [
        "### get latest balance\n",
        "\n",
        "import mysql.connector\n",
        "\n",
        "def get_balance():\n",
        "\n",
        "    cnx = None\n",
        "    current_balance = 0\n",
        "\n",
        "    try:\n",
        "        cnx = mysql.connector.connect(\n",
        "            user='root',  # ユーザー名\n",
        "            password='',  # パスワード\n",
        "            host='localhost',  # ホスト名(IPアドレス）\n",
        "            database='stock_test'  # データベース名\n",
        "        )\n",
        "\n",
        "        cursor = cnx.cursor()\n",
        "\n",
        "        sql = ('''\n",
        "        SELECT balance\n",
        "        FROM wallent02\n",
        "        ''')\n",
        "\n",
        "        cursor.execute(sql)\n",
        "        #cnx.commit()\n",
        "\n",
        "        print(f\"Last balance gotten.\")\n",
        "\n",
        "        for row in cursor.fetchall():\n",
        "          current_balance += row[0]\n",
        "\n",
        "        cursor.close()\n",
        "\n",
        "    except Exception as e:\n",
        "        print(f\"Error Occurred: {e}\")\n",
        "\n",
        "    finally:\n",
        "        if cnx is not None and cnx.is_connected():\n",
        "            cnx.close()\n",
        "        return current_balance\n",
        "\n",
        "\n",
        "get_balance()"
      ]
    },
    {
      "cell_type": "code",
      "execution_count": 3,
      "metadata": {},
      "outputs": [
        {
          "name": "stdout",
          "output_type": "stream",
          "text": [
            "Requirement already satisfied: pip in /Users/natoririku/anaconda3/envs/pythonenv/lib/python3.10/site-packages (23.0.1)\n",
            "Collecting pip\n",
            "  Using cached pip-23.1.2-py3-none-any.whl (2.1 MB)\n",
            "Installing collected packages: pip\n",
            "  Attempting uninstall: pip\n",
            "    Found existing installation: pip 23.0.1\n",
            "    Uninstalling pip-23.0.1:\n",
            "      Successfully uninstalled pip-23.0.1\n",
            "Successfully installed pip-23.1.2\n",
            "Collecting pandas-datareader\n",
            "  Using cached pandas_datareader-0.10.0-py3-none-any.whl (109 kB)\n",
            "Collecting lxml (from pandas-datareader)\n",
            "  Using cached lxml-4.9.2.tar.gz (3.7 MB)\n",
            "  Preparing metadata (setup.py) ... \u001b[?25ldone\n",
            "\u001b[?25hCollecting pandas>=0.23 (from pandas-datareader)\n",
            "  Downloading pandas-2.0.1-cp310-cp310-macosx_11_0_arm64.whl (10.8 MB)\n",
            "\u001b[2K     \u001b[90m━━━━━━━━━━━━━━━━━━━━━━━━━━━━━━━━━━━━━━━━\u001b[0m \u001b[32m10.8/10.8 MB\u001b[0m \u001b[31m38.1 MB/s\u001b[0m eta \u001b[36m0:00:00\u001b[0m00:01\u001b[0m0:01\u001b[0m\n",
            "\u001b[?25hCollecting requests>=2.19.0 (from pandas-datareader)\n",
            "  Using cached requests-2.30.0-py3-none-any.whl (62 kB)\n",
            "Requirement already satisfied: python-dateutil>=2.8.2 in /Users/natoririku/anaconda3/envs/pythonenv/lib/python3.10/site-packages (from pandas>=0.23->pandas-datareader) (2.8.2)\n",
            "Collecting pytz>=2020.1 (from pandas>=0.23->pandas-datareader)\n",
            "  Using cached pytz-2023.3-py2.py3-none-any.whl (502 kB)\n",
            "Collecting tzdata>=2022.1 (from pandas>=0.23->pandas-datareader)\n",
            "  Using cached tzdata-2023.3-py2.py3-none-any.whl (341 kB)\n",
            "Collecting numpy>=1.21.0 (from pandas>=0.23->pandas-datareader)\n",
            "  Downloading numpy-1.24.3-cp310-cp310-macosx_11_0_arm64.whl (13.9 MB)\n",
            "\u001b[2K     \u001b[90m━━━━━━━━━━━━━━━━━━━━━━━━━━━━━━━━━━━━━━━━\u001b[0m \u001b[32m13.9/13.9 MB\u001b[0m \u001b[31m47.5 MB/s\u001b[0m eta \u001b[36m0:00:00\u001b[0m00:01\u001b[0m00:01\u001b[0m\n",
            "\u001b[?25hCollecting charset-normalizer<4,>=2 (from requests>=2.19.0->pandas-datareader)\n",
            "  Downloading charset_normalizer-3.1.0-cp310-cp310-macosx_11_0_arm64.whl (123 kB)\n",
            "\u001b[2K     \u001b[90m━━━━━━━━━━━━━━━━━━━━━━━━━━━━━━━━━━━━━━\u001b[0m \u001b[32m123.0/123.0 kB\u001b[0m \u001b[31m15.9 MB/s\u001b[0m eta \u001b[36m0:00:00\u001b[0m\n",
            "\u001b[?25hCollecting idna<4,>=2.5 (from requests>=2.19.0->pandas-datareader)\n",
            "  Using cached idna-3.4-py3-none-any.whl (61 kB)\n",
            "Collecting urllib3<3,>=1.21.1 (from requests>=2.19.0->pandas-datareader)\n",
            "  Using cached urllib3-2.0.2-py3-none-any.whl (123 kB)\n",
            "Collecting certifi>=2017.4.17 (from requests>=2.19.0->pandas-datareader)\n",
            "  Using cached certifi-2023.5.7-py3-none-any.whl (156 kB)\n",
            "Requirement already satisfied: six>=1.5 in /Users/natoririku/anaconda3/envs/pythonenv/lib/python3.10/site-packages (from python-dateutil>=2.8.2->pandas>=0.23->pandas-datareader) (1.16.0)\n",
            "Building wheels for collected packages: lxml\n",
            "  Building wheel for lxml (setup.py) ... \u001b[?25ldone\n",
            "\u001b[?25h  Created wheel for lxml: filename=lxml-4.9.2-cp310-cp310-macosx_11_0_arm64.whl size=1590550 sha256=8ce849866c060c80bd3756859b006c504b9e34ac935c1508e008dcd2bdad6a7e\n",
            "  Stored in directory: /Users/natoririku/Library/Caches/pip/wheels/5a/51/0e/95b4a6ddee4a616530c36aeb03dafb5e04183756d9973a7d5d\n",
            "Successfully built lxml\n",
            "Installing collected packages: pytz, urllib3, tzdata, numpy, lxml, idna, charset-normalizer, certifi, requests, pandas, pandas-datareader\n",
            "Successfully installed certifi-2023.5.7 charset-normalizer-3.1.0 idna-3.4 lxml-4.9.2 numpy-1.24.3 pandas-2.0.1 pandas-datareader-0.10.0 pytz-2023.3 requests-2.30.0 tzdata-2023.3 urllib3-2.0.2\n"
          ]
        }
      ],
      "source": [
        "!pip install --upgrade pip\n",
        "!pip install pandas-datareader"
      ]
    },
    {
      "cell_type": "code",
      "execution_count": null,
      "metadata": {},
      "outputs": [],
      "source": []
    }
  ],
  "metadata": {
    "colab": {
      "authorship_tag": "ABX9TyPjQvpzdTrQo21gWnU3EF3c",
      "include_colab_link": true,
      "provenance": []
    },
    "kernelspec": {
      "display_name": "Python 3",
      "name": "python3"
    },
    "language_info": {
      "codemirror_mode": {
        "name": "ipython",
        "version": 3
      },
      "file_extension": ".py",
      "mimetype": "text/x-python",
      "name": "python",
      "nbconvert_exporter": "python",
      "pygments_lexer": "ipython3",
      "version": "3.10.11"
    }
  },
  "nbformat": 4,
  "nbformat_minor": 0
}
